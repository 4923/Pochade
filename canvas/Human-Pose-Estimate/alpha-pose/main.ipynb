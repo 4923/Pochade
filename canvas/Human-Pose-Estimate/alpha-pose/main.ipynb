{
 "cells": [
  {
   "cell_type": "code",
   "execution_count": 4,
   "metadata": {},
   "outputs": [
    {
     "name": "stdout",
     "output_type": "stream",
     "text": [
      "Traceback (most recent call last):\n",
      "  File \"/Users/a4923/Desktop/repositories/_construct/AlphaPose/demo.py\", line 4, in <module>\n",
      "    import torchvision.transforms as transforms\n",
      "  File \"/opt/homebrew/Caskroom/miniforge/base/envs/ds-py38/lib/python3.8/site-packages/torchvision/__init__.py\", line 2, in <module>\n",
      "    from torchvision import datasets\n",
      "  File \"/opt/homebrew/Caskroom/miniforge/base/envs/ds-py38/lib/python3.8/site-packages/torchvision/datasets/__init__.py\", line 9, in <module>\n",
      "    from .fakedata import FakeData\n",
      "  File \"/opt/homebrew/Caskroom/miniforge/base/envs/ds-py38/lib/python3.8/site-packages/torchvision/datasets/fakedata.py\", line 3, in <module>\n",
      "    from .. import transforms\n",
      "  File \"/opt/homebrew/Caskroom/miniforge/base/envs/ds-py38/lib/python3.8/site-packages/torchvision/transforms/__init__.py\", line 1, in <module>\n",
      "    from .transforms import *\n",
      "  File \"/opt/homebrew/Caskroom/miniforge/base/envs/ds-py38/lib/python3.8/site-packages/torchvision/transforms/transforms.py\", line 17, in <module>\n",
      "    from . import functional as F\n",
      "  File \"/opt/homebrew/Caskroom/miniforge/base/envs/ds-py38/lib/python3.8/site-packages/torchvision/transforms/functional.py\", line 5, in <module>\n",
      "    from PIL import Image, ImageOps, ImageEnhance, PILLOW_VERSION\n",
      "ImportError: cannot import name 'PILLOW_VERSION' from 'PIL' (/opt/homebrew/Caskroom/miniforge/base/envs/ds-py38/lib/python3.8/site-packages/PIL/__init__.py)\n"
     ]
    }
   ],
   "source": [
    "!python3 '/Users/a4923/Desktop/repositories/_construct/AlphaPose/demo.py' --webcam 0 --outdir examples/res --vis"
   ]
  },
  {
   "cell_type": "code",
   "execution_count": null,
   "metadata": {},
   "outputs": [],
   "source": []
  }
 ],
 "metadata": {
  "kernelspec": {
   "display_name": "Python 3.8.12 ('ds-py38')",
   "language": "python",
   "name": "python3"
  },
  "language_info": {
   "codemirror_mode": {
    "name": "ipython",
    "version": 3
   },
   "file_extension": ".py",
   "mimetype": "text/x-python",
   "name": "python",
   "nbconvert_exporter": "python",
   "pygments_lexer": "ipython3",
   "version": "3.8.12"
  },
  "orig_nbformat": 4,
  "vscode": {
   "interpreter": {
    "hash": "ff3e2cd991b985bf04ba87552588638018f73b6d9e2f02b4d90c418acb27535f"
   }
  }
 },
 "nbformat": 4,
 "nbformat_minor": 2
}
